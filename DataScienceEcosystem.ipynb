{
 "cells": [
  {
   "cell_type": "markdown",
   "id": "56e790c8-8e44-49fe-9869-20a08359f834",
   "metadata": {},
   "source": [
    "# Data Science Tools and Ecosystem"
   ]
  },
  {
   "cell_type": "markdown",
   "id": "714a8cd1-fc28-4108-9517-1e5b668a1931",
   "metadata": {},
   "source": [
    "In this notebook, Data Science Tools and Ecosystem are summarized..."
   ]
  },
  {
   "cell_type": "markdown",
   "id": "4e6922f8-0966-4316-8cd2-fa7b918f1d9d",
   "metadata": {},
   "source": [
    "Objectives:\n",
    "\n",
    "- List popular languages for Data Science\n",
    "- Explore commonly used libraries in Data Science\n",
    "- Understand tools and environments used in Data Science\n",
    "- Perform basic arithmetic operations in Python\n",
    "- Convert units (e.g., minutes to hours) using Python expressions\n"
   ]
  },
  {
   "cell_type": "markdown",
   "id": "53fd1a1b-2366-40fa-bee8-3fbaae6a2bd0",
   "metadata": {},
   "source": [
    "Some of the popular languages that Data Scientists use are:\n",
    "1. Python\n",
    "2. R\n",
    "3. SQL\n",
    "4. Julia\n",
    "5. Java\n",
    "\n"
   ]
  },
  {
   "cell_type": "markdown",
   "id": "6039ee39-41ad-44ef-9d6a-86d48006dddd",
   "metadata": {},
   "source": [
    "Some of the commonly used libraries used by Data Scientists include:\n",
    "1. NumPy\n",
    "2. Pandas\n",
    "3. Matplotlib\n",
    "4. Scikit-learn\n",
    "5. TensorFlow\n"
   ]
  },
  {
   "cell_type": "markdown",
   "id": "61f5d3e9-61d6-424d-94da-110b0c434a0e",
   "metadata": {},
   "source": [
    "| Data Science Tools          |\n",
    "|-----------------------------|\n",
    "| Jupyter Notebook            |\n",
    "| RStudio                     |\n",
    "| Apache Zeppelin             |\n"
   ]
  },
  {
   "cell_type": "markdown",
   "id": "81c126a1-ca9c-4df5-a830-91fbb527a551",
   "metadata": {},
   "source": [
    "### Below are a few examples of evaluating arithmetic expressions in Python"
   ]
  },
  {
   "cell_type": "code",
   "execution_count": 5,
   "id": "aa947044-9db7-4023-a6ba-938c71d8ee1c",
   "metadata": {},
   "outputs": [
    {
     "name": "stdout",
     "output_type": "stream",
     "text": [
      "17\n"
     ]
    }
   ],
   "source": [
    "# This is a simple arithmetic expression to multiply then add integers\n",
    "result = (3 * 4) + 5\n",
    "print(result)  # Expected output: 17\n"
   ]
  },
  {
   "cell_type": "code",
   "execution_count": 7,
   "id": "35e3339d-0072-435d-8d54-cc9a144cdf7c",
   "metadata": {},
   "outputs": [
    {
     "name": "stdout",
     "output_type": "stream",
     "text": [
      "3.3333333333333335\n"
     ]
    }
   ],
   "source": [
    "# This will convert 200 minutes to hours by dividing by 60\n",
    "minutes = 200\n",
    "hours = minutes / 60\n",
    "print(hours)\n"
   ]
  },
  {
   "cell_type": "markdown",
   "id": "5fac4289-e4e9-4204-9fcb-8192d3066b88",
   "metadata": {},
   "source": [
    "## Author:\n",
    "C Kendall"
   ]
  },
  {
   "cell_type": "code",
   "execution_count": null,
   "id": "55da9660-560c-41a2-98c5-6f05e8a41484",
   "metadata": {},
   "outputs": [],
   "source": []
  }
 ],
 "metadata": {
  "kernelspec": {
   "display_name": "Python 3 (ipykernel)",
   "language": "python",
   "name": "python3"
  },
  "language_info": {
   "codemirror_mode": {
    "name": "ipython",
    "version": 3
   },
   "file_extension": ".py",
   "mimetype": "text/x-python",
   "name": "python",
   "nbconvert_exporter": "python",
   "pygments_lexer": "ipython3",
   "version": "3.10.13"
  }
 },
 "nbformat": 4,
 "nbformat_minor": 5
}
